{
  "nbformat": 4,
  "nbformat_minor": 0,
  "metadata": {
    "colab": {
      "provenance": [],
      "authorship_tag": "ABX9TyNFUilMWYbo8+nFc5QnU3b/"
    },
    "kernelspec": {
      "name": "python3",
      "display_name": "Python 3"
    },
    "language_info": {
      "name": "python"
    }
  },
  "cells": [
    {
      "cell_type": "code",
      "execution_count": 1,
      "metadata": {
        "colab": {
          "base_uri": "https://localhost:8080/"
        },
        "id": "jVWwq_1rstcZ",
        "outputId": "f5db8d8d-11f4-496c-fc5c-564fdefea766"
      },
      "outputs": [
        {
          "output_type": "stream",
          "name": "stdout",
          "text": [
            "Qual a altura da parede?10\n",
            "Qual a largura da parede?10\n",
            "Você vai precisar de 50.0 litros para pintar uma parede que tem 10m de altura e 10m de largura.\n"
          ]
        }
      ],
      "source": [
        "# Pintando uma parede\n",
        "\n",
        "litro = 2\n",
        "\n",
        "altura = int(input('Qual a altura da parede?'))\n",
        "\n",
        "largura = int(input('Qual a largura da parede?'))\n",
        "\n",
        "area = altura * largura\n",
        "\n",
        "quant_tinta = area / litro\n",
        "\n",
        "print(f'Você vai precisar de {quant_tinta} litros para pintar uma parede que tem {altura}m de altura e {largura}m de largura.')"
      ]
    }
  ]
}